{
  "nbformat": 4,
  "nbformat_minor": 0,
  "metadata": {
    "colab": {
      "provenance": [],
      "authorship_tag": "ABX9TyMuEw1YIuCs00hDru4wf0K3",
      "include_colab_link": true
    },
    "kernelspec": {
      "name": "python3",
      "display_name": "Python 3"
    },
    "language_info": {
      "name": "python"
    }
  },
  "cells": [
    {
      "cell_type": "markdown",
      "metadata": {
        "id": "view-in-github",
        "colab_type": "text"
      },
      "source": [
        "<a href=\"https://colab.research.google.com/github/arshiyaakishore/DataScience-Elective/blob/main/AI-Applications_UCS672/AI_Applications_UCS672_LAB1.ipynb\" target=\"_parent\"><img src=\"https://colab.research.google.com/assets/colab-badge.svg\" alt=\"Open In Colab\"/></a>"
      ]
    },
    {
      "cell_type": "markdown",
      "source": [
        "Q1 Split this string\n",
        "s = \"Hi there Class!\"\n",
        "into a list."
      ],
      "metadata": {
        "id": "VbkTxViTTLZT"
      }
    },
    {
      "cell_type": "code",
      "source": [
        "s = \"Hi there Class!\"\n",
        "word_list = s.split()\n",
        "print(word_list)\n"
      ],
      "metadata": {
        "colab": {
          "base_uri": "https://localhost:8080/"
        },
        "id": "81Hoxz1STOUh",
        "outputId": "2c50539a-00db-43d7-cdb1-5db4100cabd4"
      },
      "execution_count": null,
      "outputs": [
        {
          "output_type": "stream",
          "name": "stdout",
          "text": [
            "['Hi', 'there', 'Class!']\n"
          ]
        }
      ]
    },
    {
      "cell_type": "markdown",
      "source": [
        "Q2 Given the variables\n",
        "planet = \"Earth\"\n",
        "diameter = 12742\n",
        "Use .format() to print the following string:\n",
        "The diameter of Earth is 12742 kilometers."
      ],
      "metadata": {
        "id": "8b-QYMeZTemh"
      }
    },
    {
      "cell_type": "code",
      "source": [
        "planet = \"Earth\"\n",
        "diameter = 12742\n",
        "str = \"The diameter of {} is {} kilometers.\".format(planet, diameter)\n",
        "str"
      ],
      "metadata": {
        "colab": {
          "base_uri": "https://localhost:8080/",
          "height": 36
        },
        "id": "VrqOh_VAU0nJ",
        "outputId": "ef9cd099-1f51-4ec6-a815-eabe65b2cf8a"
      },
      "execution_count": null,
      "outputs": [
        {
          "output_type": "execute_result",
          "data": {
            "text/plain": [
              "'The diameter of Earth is 12742 kilometers.'"
            ],
            "application/vnd.google.colaboratory.intrinsic+json": {
              "type": "string"
            }
          },
          "metadata": {},
          "execution_count": 7
        }
      ]
    },
    {
      "cell_type": "markdown",
      "source": [
        "Q3 Given this nested list, use indexing to grab the word \"hello\"\n",
        "lst = [1,2,[3,4],[5,[100,200,['hello']],23,11],1,7]"
      ],
      "metadata": {
        "id": "AG7My4DRTgic"
      }
    },
    {
      "cell_type": "code",
      "source": [
        "lst = [1, 2, [3, 4], [5, [100, 200, ['hello']], 23, 11], 1, 7]\n",
        "lst\n",
        "word_hello = lst[3][1][2][0]\n",
        "print(word_hello)"
      ],
      "metadata": {
        "colab": {
          "base_uri": "https://localhost:8080/"
        },
        "id": "nUWKWYdYUxYi",
        "outputId": "623cd2db-e4d1-42d4-9cc4-ee2cb4ca5d8c"
      },
      "execution_count": null,
      "outputs": [
        {
          "output_type": "execute_result",
          "data": {
            "text/plain": [
              "[1, 2, [3, 4], [5, [100, 200, ['hello']], 23, 11], 1, 7]"
            ]
          },
          "metadata": {},
          "execution_count": 10
        }
      ]
    },
    {
      "cell_type": "markdown",
      "source": [
        "Q4 Given this nested dictionary grab the word \"hello\".\n",
        "d = {'k1':[1,2,3,{'tricky':['oh','man','inception',{'target':[1,2,3,'hello']}]}]}\n"
      ],
      "metadata": {
        "id": "HBWXqivwTgqU"
      }
    },
    {
      "cell_type": "code",
      "source": [
        "d = {'k1': [1, 2, 3, {'tricky': ['oh', 'man', 'inception', {'target': [1, 2, 3, 'hello']}]}]}\n",
        "word=d['k1'][3]['tricky'][3]['target'][3]\n",
        "word\n"
      ],
      "metadata": {
        "colab": {
          "base_uri": "https://localhost:8080/",
          "height": 36
        },
        "id": "IAFOjiGMVGZ6",
        "outputId": "4f2a4d7e-89ce-4f92-9d6a-395032030937"
      },
      "execution_count": null,
      "outputs": [
        {
          "output_type": "execute_result",
          "data": {
            "text/plain": [
              "'hello'"
            ],
            "application/vnd.google.colaboratory.intrinsic+json": {
              "type": "string"
            }
          },
          "metadata": {},
          "execution_count": 11
        }
      ]
    },
    {
      "cell_type": "markdown",
      "source": [
        "Q5 Create a function that grabs the email website domain from a string in the form:\n",
        "user@domain.com\n"
      ],
      "metadata": {
        "id": "28u_Dz6FVGt6"
      }
    },
    {
      "cell_type": "code",
      "source": [
        "def get_domain(email):\n",
        "    return email.split('@')[1].split('.')[0]\n",
        "\n",
        "email1=\"ak@gmail.com\"\n",
        "domain=get_domain(email1)\n",
        "domain"
      ],
      "metadata": {
        "colab": {
          "base_uri": "https://localhost:8080/",
          "height": 36
        },
        "id": "z5CVxub_W1G7",
        "outputId": "b49299f3-2e09-42d3-d5af-f7764fd98a98"
      },
      "execution_count": null,
      "outputs": [
        {
          "output_type": "execute_result",
          "data": {
            "text/plain": [
              "'gmail'"
            ],
            "application/vnd.google.colaboratory.intrinsic+json": {
              "type": "string"
            }
          },
          "metadata": {},
          "execution_count": 13
        }
      ]
    },
    {
      "cell_type": "markdown",
      "source": [
        "Q6 Create a basic function that returns True if the word 'dog' is contained in the input string."
      ],
      "metadata": {
        "id": "ZnbNoNwSW0Nx"
      }
    },
    {
      "cell_type": "code",
      "source": [
        "def contains_dog(str):\n",
        "    return 'dog' in str.lower()\n",
        "\n",
        "str = \"I have a Dog\"\n",
        "result = contains_dog(str)\n",
        "result"
      ],
      "metadata": {
        "colab": {
          "base_uri": "https://localhost:8080/"
        },
        "id": "jawJuFoGXAXS",
        "outputId": "89158739-7a46-4e5e-f682-7dada72bd953"
      },
      "execution_count": null,
      "outputs": [
        {
          "output_type": "execute_result",
          "data": {
            "text/plain": [
              "True"
            ]
          },
          "metadata": {},
          "execution_count": 16
        }
      ]
    },
    {
      "cell_type": "markdown",
      "source": [
        "Q7 Create a function that counts the number of times the word \"dog\" occurs in a string.\n"
      ],
      "metadata": {
        "id": "tS4C832SX1NB"
      }
    },
    {
      "cell_type": "code",
      "source": [
        "def count_dog(input_string):\n",
        "    words = input_string.split()\n",
        "    count = words.count('dog')\n",
        "    return count\n",
        "\n",
        "input_string = \"One dog bit another dog\"\n",
        "result = count_dog(input_string)\n",
        "result\n"
      ],
      "metadata": {
        "colab": {
          "base_uri": "https://localhost:8080/"
        },
        "id": "h8TxE6VLXzGb",
        "outputId": "bc311fe7-5fb4-4e7b-cb73-e649b0ad3a23"
      },
      "execution_count": null,
      "outputs": [
        {
          "output_type": "execute_result",
          "data": {
            "text/plain": [
              "2"
            ]
          },
          "metadata": {},
          "execution_count": 18
        }
      ]
    },
    {
      "cell_type": "markdown",
      "source": [
        "Q8 Use lambda expressions and the filter() function to filter out words from a list that don't start with the\n",
        "letter 's'.\n",
        "For example: seq = ['soup','dog','salad','cat','great']"
      ],
      "metadata": {
        "id": "jf9seZlXX_Ku"
      }
    },
    {
      "cell_type": "code",
      "source": [
        "seq = ['soup','dog','salad','cat','great']\n",
        "\n",
        "filtered = list(filter(lambda x: x.startswith('s'), seq))\n",
        "filtered\n"
      ],
      "metadata": {
        "colab": {
          "base_uri": "https://localhost:8080/"
        },
        "id": "It7g8aZNXseS",
        "outputId": "c33d4893-efe3-4427-bda6-f1c1a5a2e094"
      },
      "execution_count": null,
      "outputs": [
        {
          "output_type": "execute_result",
          "data": {
            "text/plain": [
              "['soup', 'salad']"
            ]
          },
          "metadata": {},
          "execution_count": 28
        }
      ]
    },
    {
      "cell_type": "markdown",
      "source": [
        "Q9. You are driving a little too fast, and a police officer stops you. Write a function to return one of 3 pos\n",
        "sible results: \"No Challan\", \"Small Challan\", or \"Heavy Challan\". If your speed is 60 or less, the result is\n",
        "\"No Challan\". If speed is between 61 and 80 inclusive, the result is \"Small Challan\". If speed is 81 or mor\n",
        "e, the result is \"Heavy Challan\". Unless it is your birthday (encoded as a Boolean value in the parameters\n",
        "of the function) -- on your birthday, your speed can be 5 higher in all cases.\n",
        "caught_speeding(81,True)\n",
        "caught_speeding(81,False)\n"
      ],
      "metadata": {
        "id": "ZI0te2zsYVw2"
      }
    },
    {
      "cell_type": "code",
      "source": [
        "def caught_speeding(speed, is_birthday):\n",
        "    if is_birthday:\n",
        "        speed -= 5\n",
        "\n",
        "    if speed <= 60:\n",
        "        return \"No Challan\"\n",
        "    elif 61 <= speed <= 80:\n",
        "        return \"Small Challan\"\n",
        "    else:\n",
        "        return \"Heavy Challan\"\n",
        "\n",
        "result1 = caught_speeding(81, True)\n",
        "result2 = caught_speeding(81, False)\n",
        "\n",
        "print(result1)  # Output: \"Small Challan\"\n",
        "print(result2)  # Output: \"Heavy Challan\"\n"
      ],
      "metadata": {
        "colab": {
          "base_uri": "https://localhost:8080/"
        },
        "id": "WXRlKR2mZLnv",
        "outputId": "2f75d235-de67-40de-e969-9573d991a255"
      },
      "execution_count": null,
      "outputs": [
        {
          "output_type": "stream",
          "name": "stdout",
          "text": [
            "Small Challan\n",
            "Heavy Challan\n"
          ]
        }
      ]
    },
    {
      "cell_type": "markdown",
      "source": [
        "Q10 Concatenate two lists index-wise\n",
        "list1 = [\"M\", \"na\", \"i\", \"She\"]\n",
        "list2 = [\"y\", \"me\", \"s\", \"lly\"]\n",
        "Expected Outcome: ['My', 'name', 'is', 'Shelly']\n"
      ],
      "metadata": {
        "id": "ae8K0JyEYZ-v"
      }
    },
    {
      "cell_type": "code",
      "source": [
        "list1 = [\"M\", \"na\", \"i\", \"She\"]\n",
        "list2 = [\"y\", \"me\", \"s\", \"lly\"]\n",
        "concatenated_list = [i + j for i, j in zip(list1, list2)]\n",
        "concatenated_list"
      ],
      "metadata": {
        "colab": {
          "base_uri": "https://localhost:8080/"
        },
        "id": "h12eAJQyYeDt",
        "outputId": "112a9015-c24d-4935-cc25-7fde9fefae16"
      },
      "execution_count": null,
      "outputs": [
        {
          "output_type": "execute_result",
          "data": {
            "text/plain": [
              "['My', 'name', 'is', 'Shelly']"
            ]
          },
          "metadata": {},
          "execution_count": 21
        }
      ]
    },
    {
      "cell_type": "markdown",
      "source": [
        "Q11 Concatenate two lists in the following order\n",
        "list1 = [\"Hello \", \"take \"]\n",
        "list2 = [\"Dear\", \"Sir\"]\n",
        "Expected Output: ['Hello Dear', 'Hello Sir', 'take Dear', 'take Sir']\n"
      ],
      "metadata": {
        "id": "KnRtC6_9Ztik"
      }
    },
    {
      "cell_type": "code",
      "source": [
        "list1 = [\"Hello \", \"take \"]\n",
        "list2 = [\"Dear\", \"Sir\"]\n",
        "\n",
        "result = [x + y for x in list1 for y in list2]\n",
        "result"
      ],
      "metadata": {
        "colab": {
          "base_uri": "https://localhost:8080/"
        },
        "id": "cXPjqZNjYheQ",
        "outputId": "9391e6f2-5760-485f-bff6-03ccbca7c9e5"
      },
      "execution_count": null,
      "outputs": [
        {
          "output_type": "execute_result",
          "data": {
            "text/plain": [
              "['Hello Dear', 'Hello Sir', 'take Dear', 'take Sir']"
            ]
          },
          "metadata": {},
          "execution_count": 25
        }
      ]
    },
    {
      "cell_type": "markdown",
      "source": [
        "Q12 Add item 7000 after 6000 in the following Python List\n",
        "list1 = [10, 20, [300, 400, [5000, 6000], 500], 30, 40]\n"
      ],
      "metadata": {
        "id": "pfot1sqWZy_b"
      }
    },
    {
      "cell_type": "code",
      "source": [
        "list1 = [10, 20, [300, 400, [5000, 6000], 500], 30, 40]\n",
        "\n",
        "list1 = [10, 20, [300, 400, [5000, 6000], 500], 30, 40]\n",
        "nested_list=list1[2][2]\n",
        "\n",
        "index_6000 = nested_list.index(6000)\n",
        "nested_list.insert(index_6000 + 1, 7000)\n",
        "list1\n"
      ],
      "metadata": {
        "colab": {
          "base_uri": "https://localhost:8080/"
        },
        "id": "AppV0hJDZygm",
        "outputId": "944486e3-e018-4ed5-b731-18e67f3d5188"
      },
      "execution_count": null,
      "outputs": [
        {
          "output_type": "execute_result",
          "data": {
            "text/plain": [
              "[10, 20, [300, 400, [5000, 6000, 7000], 500], 30, 40]"
            ]
          },
          "metadata": {},
          "execution_count": 32
        }
      ]
    },
    {
      "cell_type": "markdown",
      "source": [
        "Q13 Given a Python list, remove all occurrence of 20 from the list\n",
        "list1 = [5, 20, 15, 20, 25, 50, 20]\n"
      ],
      "metadata": {
        "id": "o7NCmiiVZ6Ax"
      }
    },
    {
      "cell_type": "code",
      "source": [
        "list1 = [5, 20, 15, 20, 25, 50, 20]\n",
        "\n",
        "while 20 in list1:\n",
        "    list1.remove(20)\n",
        "list1"
      ],
      "metadata": {
        "colab": {
          "base_uri": "https://localhost:8080/"
        },
        "id": "fNzaGTmgaCcg",
        "outputId": "8961b78a-0aa8-48e0-de0c-bcbe8608fa15"
      },
      "execution_count": null,
      "outputs": [
        {
          "output_type": "execute_result",
          "data": {
            "text/plain": [
              "[5, 15, 25, 50]"
            ]
          },
          "metadata": {},
          "execution_count": 33
        }
      ]
    },
    {
      "cell_type": "markdown",
      "source": [
        "Q14 Check if a value 200 exists in a dictionary\n",
        "d1 = {'a': 100, 'b': 200, 'c': 300}\n"
      ],
      "metadata": {
        "id": "r4zYW7qHZ77P"
      }
    },
    {
      "cell_type": "code",
      "source": [
        "d1 = {'a': 100, 'b': 200, 'c': 300}\n",
        "if 200 in d1.values():\n",
        "  print(\"exists\")\n",
        "else:\n",
        "  print(\"does not exist\")"
      ],
      "metadata": {
        "colab": {
          "base_uri": "https://localhost:8080/"
        },
        "id": "nrZT8VduZ5Dq",
        "outputId": "a1f96c03-42fb-4797-a9e8-7a40059017c2"
      },
      "execution_count": null,
      "outputs": [
        {
          "output_type": "stream",
          "name": "stdout",
          "text": [
            "exists\n"
          ]
        }
      ]
    },
    {
      "cell_type": "markdown",
      "source": [
        "Q15 Find the sum of the series 2 +22 + 222 + 2222 + .. n terms"
      ],
      "metadata": {
        "id": "C2UvVtOoZ-ye"
      }
    },
    {
      "cell_type": "code",
      "source": [
        "def series(n):\n",
        "    result = 0\n",
        "    f_term = 2\n",
        "\n",
        "    for i in range(1, n + 1):\n",
        "        result += f_term\n",
        "        f_term = f_term * 10 + 2\n",
        "\n",
        "    return result\n",
        "\n",
        "n = 5\n",
        "result = series(n)\n",
        "print(f\"Sum of the series up to {n} terms: {result}\")\n"
      ],
      "metadata": {
        "colab": {
          "base_uri": "https://localhost:8080/"
        },
        "id": "UbEFyRtmZ-KE",
        "outputId": "05935751-c467-4ed4-e798-51d337e4f172"
      },
      "execution_count": null,
      "outputs": [
        {
          "output_type": "stream",
          "name": "stdout",
          "text": [
            "Sum of the series up to 5 terms: 24690\n"
          ]
        }
      ]
    }
  ]
}