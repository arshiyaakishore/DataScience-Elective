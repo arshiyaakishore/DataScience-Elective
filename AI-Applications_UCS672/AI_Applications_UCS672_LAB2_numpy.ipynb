{
  "nbformat": 4,
  "nbformat_minor": 0,
  "metadata": {
    "colab": {
      "provenance": [],
      "authorship_tag": "ABX9TyNZ//2GMY69Q1Rcxb+Jc1Ds",
      "include_colab_link": true
    },
    "kernelspec": {
      "name": "python3",
      "display_name": "Python 3"
    },
    "language_info": {
      "name": "python"
    }
  },
  "cells": [
    {
      "cell_type": "markdown",
      "metadata": {
        "id": "view-in-github",
        "colab_type": "text"
      },
      "source": [
        "<a href=\"https://colab.research.google.com/github/arshiyaakishore/DataScience-Elective/blob/main/AI-Applications_UCS672/AI_Applications_UCS672_LAB2_numpy.ipynb\" target=\"_parent\"><img src=\"https://colab.research.google.com/assets/colab-badge.svg\" alt=\"Open In Colab\"/></a>"
      ]
    },
    {
      "cell_type": "markdown",
      "source": [
        "NUMPY\n"
      ],
      "metadata": {
        "id": "uVV641J4Y4to"
      }
    },
    {
      "cell_type": "code",
      "source": [
        "import numpy as np"
      ],
      "metadata": {
        "id": "b4LBWaR0ZJOV"
      },
      "execution_count": 1,
      "outputs": []
    },
    {
      "cell_type": "markdown",
      "source": [
        "1.Create an array of 10 fives"
      ],
      "metadata": {
        "id": "GNPY9MJ5ZDeY"
      }
    },
    {
      "cell_type": "code",
      "source": [
        "array1 = np.full(10, 5)\n",
        "array1"
      ],
      "metadata": {
        "colab": {
          "base_uri": "https://localhost:8080/"
        },
        "id": "T869fxe5ZDsO",
        "outputId": "307ccb48-6fe1-473a-fe13-da3837e45ee2"
      },
      "execution_count": 3,
      "outputs": [
        {
          "output_type": "execute_result",
          "data": {
            "text/plain": [
              "array([5, 5, 5, 5, 5, 5, 5, 5, 5, 5])"
            ]
          },
          "metadata": {},
          "execution_count": 3
        }
      ]
    },
    {
      "cell_type": "markdown",
      "source": [
        "2. Create an array of the integers from 10 to 50"
      ],
      "metadata": {
        "id": "r5KX3CC5Znj_"
      }
    },
    {
      "cell_type": "code",
      "source": [
        "array2 = np.arange(10, 51)\n",
        "array2"
      ],
      "metadata": {
        "colab": {
          "base_uri": "https://localhost:8080/"
        },
        "id": "a2pkzMmOZtLS",
        "outputId": "5570c84a-1858-4afd-ad28-009a6fd3c7b2"
      },
      "execution_count": 5,
      "outputs": [
        {
          "output_type": "execute_result",
          "data": {
            "text/plain": [
              "array([10, 11, 12, 13, 14, 15, 16, 17, 18, 19, 20, 21, 22, 23, 24, 25, 26,\n",
              "       27, 28, 29, 30, 31, 32, 33, 34, 35, 36, 37, 38, 39, 40, 41, 42, 43,\n",
              "       44, 45, 46, 47, 48, 49, 50])"
            ]
          },
          "metadata": {},
          "execution_count": 5
        }
      ]
    },
    {
      "cell_type": "markdown",
      "source": [
        "3. Create an array of all the even integers from 10 to 50"
      ],
      "metadata": {
        "id": "SEdOVIIlZ2iF"
      }
    },
    {
      "cell_type": "code",
      "source": [
        "array3=np.arange(10,50,2)\n",
        "array3"
      ],
      "metadata": {
        "colab": {
          "base_uri": "https://localhost:8080/"
        },
        "id": "f1tu6MuhZq4G",
        "outputId": "d67b1df6-4e54-429e-dd1b-4e37c7e5a8c3"
      },
      "execution_count": 8,
      "outputs": [
        {
          "output_type": "execute_result",
          "data": {
            "text/plain": [
              "array([10, 12, 14, 16, 18, 20, 22, 24, 26, 28, 30, 32, 34, 36, 38, 40, 42,\n",
              "       44, 46, 48])"
            ]
          },
          "metadata": {},
          "execution_count": 8
        }
      ]
    },
    {
      "cell_type": "markdown",
      "source": [
        "4.  Create a 3x3 matrix with values ranging from 0 to 8"
      ],
      "metadata": {
        "id": "qCcbPqtaaIQd"
      }
    },
    {
      "cell_type": "code",
      "source": [
        "matrix4 = np.arange(9).reshape(3, 3)\n",
        "matrix4"
      ],
      "metadata": {
        "colab": {
          "base_uri": "https://localhost:8080/"
        },
        "id": "T8csa5KPaOQC",
        "outputId": "05a566de-63ee-4e90-a57d-5ba517e883f2"
      },
      "execution_count": 12,
      "outputs": [
        {
          "output_type": "execute_result",
          "data": {
            "text/plain": [
              "array([[0, 1, 2],\n",
              "       [3, 4, 5],\n",
              "       [6, 7, 8]])"
            ]
          },
          "metadata": {},
          "execution_count": 12
        }
      ]
    },
    {
      "cell_type": "markdown",
      "source": [
        "5. Use NumPy to generate an array of 25 random numbers sampled from a standard normal distribution"
      ],
      "metadata": {
        "id": "F3POO8ggaZ1N"
      }
    },
    {
      "cell_type": "code",
      "source": [
        "random_array5 = np.random.randn(25)\n",
        "random_array5"
      ],
      "metadata": {
        "colab": {
          "base_uri": "https://localhost:8080/"
        },
        "id": "mzxp8bYVaTjm",
        "outputId": "3390d2fc-ac2f-456d-e49d-265cff6761f4"
      },
      "execution_count": 13,
      "outputs": [
        {
          "output_type": "execute_result",
          "data": {
            "text/plain": [
              "array([-1.52204546, -1.09530329,  2.10702677,  0.75573419, -0.0570204 ,\n",
              "        0.99083364, -0.77234633, -0.64146076, -1.23937835, -1.62228315,\n",
              "        1.69342142, -0.52451358,  0.8592788 , -1.3441846 , -1.79753517,\n",
              "       -0.85485997,  0.50237789,  0.23093294,  0.74159366,  1.63272722,\n",
              "       -1.62991878, -0.1068387 , -0.83956741,  0.08008982,  0.32819346])"
            ]
          },
          "metadata": {},
          "execution_count": 13
        }
      ]
    },
    {
      "cell_type": "markdown",
      "source": [
        "6. Create the following array: array([0. , 0.01, 0.02, 0.03, 0.04, 0.05, 0.06, 0.07, 0.08, 0.09, 0.1 , 0.11, 0.12, 0.13, 0.14, 0.15, 0.16, 0.17, 0.18, 0.19, 0.2 , 0.21, 0.22, 0.23, 0.24, 0.25, 0.26, 0.27, 0.28, 0.29, 0.3 , 0.31, 0.32, 0.33, 0.34, 0.35, 0.36, 0.37, 0.38, 0.39, 0.4 , 0.41, 0.42, 0.43, 0.44, 0.45, 0.46, 0.47, 0.48, 0.49, 0.5 , 0.51, 0.52, 0.53, 0.54, 0.55, 0.56, 0.57, 0.58, 0.59, 0.6 , 0.61, 0.62, 0.63, 0.64, 0.65, 0.66, 0.67, 0.68, 0.69, 0.7 , 0.71, 0.72, 0.73, 0.74, 0.75, 0.76, 0.77, 0.78, 0.79, 0.8 , 0.81, 0.82, 0.83, 0.84, 0.85, 0.86, 0.87, 0.88, 0.89, 0.9 , 0.91, 0.92, 0.93, 0.94, 0.95, 0.96, 0.97, 0.98, 0.99, 1. ])"
      ],
      "metadata": {
        "id": "B-fTjkPnaiPY"
      }
    },
    {
      "cell_type": "code",
      "source": [
        "array6=np.arange(0,1.01,0.01)\n",
        "array6"
      ],
      "metadata": {
        "colab": {
          "base_uri": "https://localhost:8080/"
        },
        "id": "8Fn9pj4ha1Z7",
        "outputId": "35515cb9-95da-40ca-bfd5-026d203d7db2"
      },
      "execution_count": 17,
      "outputs": [
        {
          "output_type": "execute_result",
          "data": {
            "text/plain": [
              "array([0.  , 0.01, 0.02, 0.03, 0.04, 0.05, 0.06, 0.07, 0.08, 0.09, 0.1 ,\n",
              "       0.11, 0.12, 0.13, 0.14, 0.15, 0.16, 0.17, 0.18, 0.19, 0.2 , 0.21,\n",
              "       0.22, 0.23, 0.24, 0.25, 0.26, 0.27, 0.28, 0.29, 0.3 , 0.31, 0.32,\n",
              "       0.33, 0.34, 0.35, 0.36, 0.37, 0.38, 0.39, 0.4 , 0.41, 0.42, 0.43,\n",
              "       0.44, 0.45, 0.46, 0.47, 0.48, 0.49, 0.5 , 0.51, 0.52, 0.53, 0.54,\n",
              "       0.55, 0.56, 0.57, 0.58, 0.59, 0.6 , 0.61, 0.62, 0.63, 0.64, 0.65,\n",
              "       0.66, 0.67, 0.68, 0.69, 0.7 , 0.71, 0.72, 0.73, 0.74, 0.75, 0.76,\n",
              "       0.77, 0.78, 0.79, 0.8 , 0.81, 0.82, 0.83, 0.84, 0.85, 0.86, 0.87,\n",
              "       0.88, 0.89, 0.9 , 0.91, 0.92, 0.93, 0.94, 0.95, 0.96, 0.97, 0.98,\n",
              "       0.99, 1.  ])"
            ]
          },
          "metadata": {},
          "execution_count": 17
        }
      ]
    },
    {
      "cell_type": "markdown",
      "source": [
        "7. Create an array of 20 linearly spaced points between 0 and 1"
      ],
      "metadata": {
        "id": "tLe6LI6Zais2"
      }
    },
    {
      "cell_type": "code",
      "source": [
        "linear_space7 = np.linspace(0, 1, 20)\n",
        "linear_space7"
      ],
      "metadata": {
        "colab": {
          "base_uri": "https://localhost:8080/"
        },
        "id": "crvBZE1cbI5S",
        "outputId": "3ac30399-6f1a-4edf-ede2-256026fef3b4"
      },
      "execution_count": 18,
      "outputs": [
        {
          "output_type": "execute_result",
          "data": {
            "text/plain": [
              "array([0.        , 0.05263158, 0.10526316, 0.15789474, 0.21052632,\n",
              "       0.26315789, 0.31578947, 0.36842105, 0.42105263, 0.47368421,\n",
              "       0.52631579, 0.57894737, 0.63157895, 0.68421053, 0.73684211,\n",
              "       0.78947368, 0.84210526, 0.89473684, 0.94736842, 1.        ])"
            ]
          },
          "metadata": {},
          "execution_count": 18
        }
      ]
    },
    {
      "cell_type": "markdown",
      "source": [
        "8. Generate the following matrix, mat, array([[ 1, 2, 3, 4, 5], [ 6, 7, 8, 9, 10], [11, 12, 13, 14, 15], [16, 17, 18, 19, 20], [21, 22, 23, 24, 25]]) and extract the following using the indexing and slicing: array([[12, 13, 14, 15], [17, 18, 19, 20], [22, 23, 24, 25]]) array([[ 2], [ 7], [12]]) Get the sum of all the values in mat Get the sum of all the rows and columns in mat"
      ],
      "metadata": {
        "id": "rq1-upd2aivO"
      }
    },
    {
      "cell_type": "code",
      "source": [
        "mat8 = np.arange(1, 26).reshape(5, 5)\n",
        "\n",
        "extract1 = mat8[2:5, 1:5]\n",
        "extract1\n",
        "extract2 = mat8[0:3, 1:2]\n",
        "extract2\n",
        "\n",
        "sum_mat8 = np.sum(mat8)\n",
        "sum_rows_mat8 = np.sum(mat8, axis=1)\n",
        "sum_cols_mat8 = np.sum(mat8, axis=0)\n"
      ],
      "metadata": {
        "id": "6wKxpJrXagKC"
      },
      "execution_count": 40,
      "outputs": []
    },
    {
      "cell_type": "code",
      "source": [
        "mat8 = np.arange(1, 26).reshape(5, 5)\n",
        "mat8"
      ],
      "metadata": {
        "colab": {
          "base_uri": "https://localhost:8080/"
        },
        "id": "iAbcHePCb1Ob",
        "outputId": "3cdc5be6-22f2-4a5d-95b0-0502c5dc9faf"
      },
      "execution_count": 34,
      "outputs": [
        {
          "output_type": "execute_result",
          "data": {
            "text/plain": [
              "array([[ 1,  2,  3,  4,  5],\n",
              "       [ 6,  7,  8,  9, 10],\n",
              "       [11, 12, 13, 14, 15],\n",
              "       [16, 17, 18, 19, 20],\n",
              "       [21, 22, 23, 24, 25]])"
            ]
          },
          "metadata": {},
          "execution_count": 34
        }
      ]
    }
  ]
}